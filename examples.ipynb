{
 "cells": [
  {
   "cell_type": "code",
   "execution_count": 1,
   "metadata": {},
   "outputs": [
    {
     "name": "stderr",
     "output_type": "stream",
     "text": [
      "INFO:root:Authenticated\n"
     ]
    }
   ],
   "source": [
    "from geosyspy import Geosys\n",
    "import os\n",
    "from dotenv import load_dotenv\n",
    "import datetime as dt\n",
    "from dateutil.relativedelta import relativedelta\n",
    "import logging\n",
    "from geosyspy.utils.constants import *\n",
    "\n",
    "\n",
    "logger = logging.getLogger()\n",
    "logger.setLevel(logging.INFO)\n",
    "\n",
    "# read .env file\n",
    "load_dotenv()\n",
    "\n",
    "API_CLIENT_ID = os.getenv('API_CLIENT_ID')\n",
    "API_CLIENT_SECRET = os.getenv('API_CLIENT_SECRET')\n",
    "API_USERNAME = os.getenv('API_USERNAME')\n",
    "API_PASSWORD = os.getenv('API_PASSWORD')\n",
    "\n",
    "client = Geosys(API_CLIENT_ID, API_CLIENT_SECRET, API_USERNAME, API_PASSWORD, Env.PROD, Region.NA)\n",
    "\n",
    "polygon = \"POLYGON((-91.17523978603823 40.29787117039518,-91.17577285022956 40.29199489606421,-91.167613719932 40.29199489606421,-91.1673028670095 40.29867040193312,-91.17523978603823 40.29787117039518))\"\n",
    "today = dt.date.today()\n",
    "year_ago = dt.date.today() + relativedelta(months=-12)"
   ]
  },
  {
   "cell_type": "code",
   "execution_count": null,
   "metadata": {},
   "outputs": [],
   "source": [
    "# Get aggregated NDVI time series\n",
    "client.get_time_series(polygon, year_ago, today, collection=SatelliteImageryCollection.MODIS, indicators=[\"NDVI\"])"
   ]
  },
  {
   "cell_type": "code",
   "execution_count": null,
   "metadata": {},
   "outputs": [],
   "source": [
    "# Get aggregated EVI time series\n",
    "client.get_time_series(polygon, year_ago, today, collection=SatelliteImageryCollection.MODIS, indicators=[\"EVI\"])"
   ]
  },
  {
   "cell_type": "code",
   "execution_count": null,
   "metadata": {},
   "outputs": [],
   "source": [
    "# Get aggregated 'Forecast daily' time series\n",
    "indicators = ['Precipitation', 'Temperature','Date']\n",
    "point = \"POINT (0.0872845021171696 43.69457564315705)\"\n",
    "client.get_time_series(point, dt.date.today(), dt.date.today() + relativedelta(days=+5), collection=WeatherTypeCollection.WEATHER_FORECAST_DAILY, indicators=indicators)"
   ]
  },
  {
   "cell_type": "code",
   "execution_count": null,
   "metadata": {},
   "outputs": [],
   "source": [
    "# Get aggregated 'Forecast hourly' time series\n",
    "indicators = ['Precipitation', 'Temperature']\n",
    "point = \"POINT (0.0872845021171696 43.69457564315705)\"\n",
    "client.get_time_series(point, dt.date.today(), dt.date.today() + relativedelta(days=+2), collection=WeatherTypeCollection.WEATHER_FORECAST_HOURLY, indicators=indicators)"
   ]
  },
  {
   "cell_type": "code",
   "execution_count": null,
   "metadata": {},
   "outputs": [],
   "source": [
    "# Get aggregated 'Historical daily' time series\n",
    "indicators = ['Precipitation', 'Temperature']\n",
    "start_date = dt.datetime.strptime(\"2022-01-01\", \"%Y-%m-%d\")\n",
    "end_date = dt.datetime.strptime(\"2022-02-01\", \"%Y-%m-%d\")\n",
    "client.get_time_series(polygon, start_date, end_date, collection=WeatherTypeCollection.WEATHER_HISTORICAL_DAILY, indicators=indicators)"
   ]
  },
  {
   "cell_type": "code",
   "execution_count": null,
   "metadata": {},
   "outputs": [],
   "source": [
    "# Get satellite image time series for Modis NDVI\n",
    "client.get_satellite_image_time_series(polygon, year_ago, today, collections=[SatelliteImageryCollection.MODIS], indicators=[\"NDVI\"])"
   ]
  },
  {
   "cell_type": "code",
   "execution_count": null,
   "metadata": {
    "scrolled": true
   },
   "outputs": [],
   "source": [
    "# Get satellite image time series for LANDSAT_8 and SENTINEL_2 Reflectance\n",
    "time_series_xarr = client.get_satellite_image_time_series(polygon, year_ago, today, collections=[SatelliteImageryCollection.SENTINEL_2, SatelliteImageryCollection.LANDSAT_8], indicators=[\"Reflectance\"])\n",
    "time_series_xarr\n"
   ]
  },
  {
   "cell_type": "code",
   "execution_count": null,
   "metadata": {
    "scrolled": true
   },
   "outputs": [],
   "source": [
    "# Get satellite image time series for LANDSAT_8 and SENTINEL_2 NDVI \n",
    "# list of available indicators: Reflectance, NDVI, EVI, GNDVI, NDWI, CVI, CVIn, LAI\n",
    "ndvi_time_series_xarr = client.get_satellite_image_time_series(polygon, year_ago, today, collections=[SatelliteImageryCollection.SENTINEL_2, SatelliteImageryCollection.LANDSAT_8], indicators=[\"ndvi\"])\n",
    "ndvi_time_series_xarr"
   ]
  },
  {
   "cell_type": "code",
   "execution_count": null,
   "metadata": {},
   "outputs": [],
   "source": [
    "# Display cumulative NDVI from last result\n",
    "\n",
    "import numpy as np\n",
    "import matplotlib.pyplot as plt\n",
    "\n",
    "polygon_ndvi_ds = ndvi_time_series_xarr['ndvi'].sortby('time')\n",
    "time_coords = polygon_ndvi_ds['time']\n",
    "\n",
    "# exclude Nan values to caluculate mean\n",
    "masked_dataarray = polygon_ndvi_ds.where(~np.isnan(polygon_ndvi_ds))\n",
    "\n",
    "# NDVI mean calculattion\n",
    "mean_ndvi = masked_dataarray.mean(dim=['x', 'y'])\n",
    "\n",
    "# Cumulative NDVI calculation \n",
    "polygon_cumul_ndvi = mean_ndvi.cumsum(dim='time')\n",
    "polygon_cumul_ndvi \n",
    "\n",
    "# build & display cumlative Ndvi graph\n",
    "plt.plot(time_coords, polygon_cumul_ndvi)\n",
    "plt.xlabel('Time')\n",
    "plt.ylabel('NDVI Cumul')\n",
    "plt.title('NVDI Cumul by date')\n",
    "plt.show()"
   ]
  },
  {
   "cell_type": "code",
   "execution_count": null,
   "metadata": {},
   "outputs": [],
   "source": [
    "import matplotlib\n",
    "time_series_xarr.reflectance.clip(0,1).sel(band='Green').plot(x=\"x\", y=\"y\", col=\"time\", col_wrap=3, figsize=(20,20))"
   ]
  },
  {
   "cell_type": "code",
   "execution_count": null,
   "metadata": {},
   "outputs": [],
   "source": [
    "# Get coverage for the polygon\n",
    "coverage_info_df, images_references = client.get_satellite_coverage_image_references(polygon, year_ago, today, collections=[SatelliteImageryCollection.SENTINEL_2, SatelliteImageryCollection.LANDSAT_8, SatelliteImageryCollection.LANDSAT_9])\n",
    "coverage_info_df"
   ]
  },
  {
   "cell_type": "code",
   "execution_count": null,
   "metadata": {},
   "outputs": [],
   "source": [
    "images_references"
   ]
  },
  {
   "cell_type": "code",
   "execution_count": null,
   "metadata": {},
   "outputs": [],
   "source": [
    "# Download and save a specific image\n",
    "client.download_image(images_references[('2023-05-03', 'SENTINEL_2')])\n"
   ]
  },
  {
   "cell_type": "code",
   "execution_count": null,
   "metadata": {},
   "outputs": [],
   "source": [
    "# Define a data schema in Analytics Fabrics\n",
    "schema = {\n",
    "    \"NDVI\": \"double\"\n",
    "}\n",
    "schema_id = \"GeosysPy_NDVI\"\n",
    "client.create_schema_id(schema_id, schema)"
   ]
  },
  {
   "cell_type": "code",
   "execution_count": null,
   "metadata": {},
   "outputs": [],
   "source": [
    "# Get metrics in Analytics Fabric\n",
    "\n",
    "start_date = dt.datetime.strptime(\"2022-01-24\", \"%Y-%m-%d\")\n",
    "end_date = dt.datetime.strptime(\"2022-03-01\", \"%Y-%m-%d\")\n",
    "schema_id = \"LAI_RADAR\"\n",
    "polygon = \"POLYGON((-52.72591542 -18.7395779,-52.72604885 -18.73951122,-52.72603114 -18.73908689,-52.71556835 -18.72490316,-52.71391916 -18.72612966,-52.71362802 -18.72623726,-52.71086473 -18.72804231,-52.72083542 -18.74173696,-52.72118937 -18.74159174,-52.72139229 -18.7418552,-52.72600257 -18.73969719,-52.72591542 -18.7395779))\"\n",
    "client.get_metrics(polygon, schema_id, start_date, end_date)"
   ]
  },
  {
   "cell_type": "code",
   "execution_count": null,
   "metadata": {},
   "outputs": [],
   "source": [
    "# Get time serie\n",
    "start_date = dt.datetime.strptime(\"2018-12-30\", \"%Y-%m-%d\")\n",
    "end_date = dt.datetime.strptime(\"2019-12-31\", \"%Y-%m-%d\")\n",
    "df = client.get_time_series(polygon, start_date, end_date, collection=SatelliteImageryCollection.MODIS, indicators=[\"NDVI\"])\n",
    "df.head()"
   ]
  },
  {
   "cell_type": "code",
   "execution_count": null,
   "metadata": {},
   "outputs": [],
   "source": [
    "# Create structure before push values in Analytics Fabrics\n",
    "values = []\n",
    "for i in range(0,len(df)):\n",
    "    prop = {\n",
    "        \"Timestamp\": str(df[\"value\"].index[i]),\n",
    "        \"Values\": {\n",
    "            \"NDVI\": df[\"value\"].values[i]\n",
    "        }\n",
    "        }\n",
    "    values.append(prop)\n",
    "values[0:5]"
   ]
  },
  {
   "cell_type": "code",
   "execution_count": null,
   "metadata": {},
   "outputs": [],
   "source": [
    "# Push metrics in Analytics Fabrics\n",
    "schema_id = \"GeosysPy_NDVI\"\n",
    "client.push_metrics(polygon, schema_id, values)"
   ]
  },
  {
   "cell_type": "code",
   "execution_count": null,
   "metadata": {},
   "outputs": [],
   "source": [
    "# Get metrics in Analytics Fabrics\n",
    "start_date = dt.datetime.strptime(\"2018-01-01\", \"%Y-%m-%d\")\n",
    "end_date = dt.datetime.strptime(\"2022-04-01\", \"%Y-%m-%d\")\n",
    "client.get_metrics(polygon, schema_id, start_date, end_date)"
   ]
  },
  {
   "cell_type": "code",
   "execution_count": 2,
   "metadata": {},
   "outputs": [
    {
     "data": {
      "text/plain": [
       "'s3://geosys-geosys-us/2tKecZgMyEP6EkddLxa1gV/mrts/0c3f552bbb1f4257994aeb5349988048'"
      ]
     },
     "execution_count": 2,
     "metadata": {},
     "output_type": "execute_result"
    }
   ],
   "source": [
    "# currently data retrived from mr_time_series are available only in PREPROD  \n",
    "client = Geosys(API_CLIENT_ID, API_CLIENT_SECRET, API_USERNAME, API_PASSWORD, Env.PREPROD, Region.NA)\n",
    "\n",
    "str_start_date=\"2020-10-09\"\n",
    "str_end_date=\"2022-10-09\"\n",
    "list_sensors=[\"Sentinel_2\", \"Landsat_8\"]\n",
    "bool_denoiser=True\n",
    "str_smoother=\"ww\"\n",
    "bool_eoc=True\n",
    "str_func=\"mean\"\n",
    "str_index=\"ndvi\"\n",
    "bool_raw_data=True\n",
    "start_date=\"2020-10-09\"\n",
    "end_date=\"2022-10-09\"\n",
    "sensors=[\"Sentinel_2\", \"Landsat_8\"]\n",
    "denoiser=True\n",
    "smoother=\"ww\"\n",
    "eoc=True\n",
    "aggregation=\"mean\"\n",
    "index=\"ndvi\"\n",
    "raw_data=True\n",
    "str_polygon=\"POLYGON ((-0.49881816 46.27330504, -0.49231649 46.27320122, -0.49611449 46.26983426, -0.49821735 46.27094671, -0.49881816 46.27330504))\"\n",
    "\n",
    "str_s3_path = client.get_mr_time_series(str_polygon, str_start_date= start_date, \n",
    "                                        str_end_date=end_date, list_sensors=sensors, bool_denoiser=denoiser, \n",
    "                                        str_smoother=smoother, bool_eoc=eoc, str_aggregation=aggregation, \n",
    "                                        str_index=index, bool_raw_data=raw_data)\n",
    "str_s3_path"
   ]
  },
  {
   "cell_type": "code",
   "execution_count": null,
   "metadata": {},
   "outputs": [],
   "source": [
    "str_polygon=\"POLYGON ((-0.49881816 46.27330504, -0.49231649 46.27320122, -0.49611449 46.26983426, -0.49821735 46.27094671, -0.49881816 46.27330504))\"\n",
    "\n",
    "str_s3_path = client.get_mr_time_series(str_polygon)\n",
    "str_s3_path"
   ]
  },
  {
   "cell_type": "code",
   "execution_count": null,
   "metadata": {},
   "outputs": [],
   "source": [
    "import boto3\n",
    "import os\n",
    "from urllib.parse import urlparse\n",
    "\n",
    "\n",
    "def download_s3_files(str_s3_path):\n",
    "    s3 = boto3.resource('s3')\n",
    "    parsed_url = urlparse(str_s3_path)\n",
    "    bucket_name = parsed_url.netloc\n",
    "    directory_name = parsed_url.path.lstrip('/')\n",
    "    bucket = s3.Bucket(bucket_name)\n",
    "    for obj in bucket.objects.filter(Prefix=directory_name):\n",
    "        if not os.path.exists(os.path.dirname(obj.key)):\n",
    "            os.makedirs(os.path.dirname(obj.key))\n",
    "        bucket.download_file(obj.key, obj.key)\n",
    "\n",
    "download_s3_files(str_s3_path)"
   ]
  }
 ],
 "metadata": {
  "interpreter": {
   "hash": "0372a3937da5da54a3bfdd53fff2df272fc2d59026be775ab1768d4a942ca61a"
  },
  "kernelspec": {
   "display_name": "Python 3 (ipykernel)",
   "language": "python",
   "name": "python3"
  },
  "language_info": {
   "codemirror_mode": {
    "name": "ipython",
    "version": 3
   },
   "file_extension": ".py",
   "mimetype": "text/x-python",
   "name": "python",
   "nbconvert_exporter": "python",
   "pygments_lexer": "ipython3",
   "version": "3.10.9"
  }
 },
 "nbformat": 4,
 "nbformat_minor": 2
}
