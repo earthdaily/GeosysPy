{
 "cells": [
  {
   "cell_type": "code",
   "execution_count": null,
   "metadata": {},
   "outputs": [],
   "source": [
    "from geosyspy import Geosys\n",
    "import os\n",
    "from dotenv import load_dotenv\n",
    "import datetime as dt\n",
    "from dateutil.relativedelta import relativedelta\n",
    "import logging\n",
    "from geosyspy.utils.constants import *\n",
    "\n",
    "logger = logging.getLogger('geosyspy')\n",
    "logger.setLevel(logging.DEBUG)\n",
    "\n",
    "# read .env file\n",
    "load_dotenv()\n",
    "\n",
    "API_CLIENT_ID = os.getenv('API_CLIENT_ID')\n",
    "API_CLIENT_SECRET = os.getenv('API_CLIENT_SECRET')\n",
    "API_USERNAME = os.getenv('API_USERNAME')\n",
    "API_PASSWORD = os.getenv('API_PASSWORD')\n",
    "\n",
    "client = Geosys(API_CLIENT_ID, API_CLIENT_SECRET, API_USERNAME, API_PASSWORD, Env.PROD, Region.NA)\n",
    "\n",
    "polygon = \"POLYGON((-91.17523978603823 40.29787117039518,-91.17577285022956 40.29199489606421,-91.167613719932 40.29199489606421,-91.1673028670095 40.29867040193312,-91.17523978603823 40.29787117039518))\"\n",
    "today = dt.date.today()\n",
    "year_ago = dt.date.today() + relativedelta(months=-12)\n",
    "\n",
    "# available crop codes of the connected user\n",
    "crops = client.get_available_crops()\n"
   ]
  },
  {
   "cell_type": "code",
   "execution_count": null,
   "metadata": {},
   "outputs": [],
   "source": [
    "# Get aggregated NDVI time series\n",
    "client.get_time_series(year_ago, today, collection=SatelliteImageryCollection.MODIS, indicators=[\"NDVI\"],polygon=polygon)"
   ]
  },
  {
   "cell_type": "code",
   "execution_count": null,
   "metadata": {},
   "outputs": [],
   "source": [
    "# Get aggregated EVI time series\n",
    "client.get_time_series(year_ago, today, collection=SatelliteImageryCollection.MODIS, indicators=[\"EVI\"], polygon=polygon)"
   ]
  },
  {
   "cell_type": "code",
   "execution_count": null,
   "metadata": {},
   "outputs": [],
   "source": [
    "# Get aggregated 'Forecast daily' time series\n",
    "indicators = ['Precipitation', 'Temperature','Date']\n",
    "point = \"POINT (0.0872845021171696 43.69457564315705)\"\n",
    "client.get_time_series(dt.date.today(), dt.date.today() + relativedelta(days=+5), collection=WeatherTypeCollection.WEATHER_FORECAST_DAILY, indicators=indicators,polygon=point)"
   ]
  },
  {
   "cell_type": "code",
   "execution_count": null,
   "metadata": {},
   "outputs": [],
   "source": [
    "# Get aggregated 'Forecast hourly' time series\n",
    "indicators = ['Precipitation', 'Temperature']\n",
    "point = \"POINT (0.0872845021171696 43.69457564315705)\"\n",
    "client.get_time_series(dt.date.today(), dt.date.today() + relativedelta(days=+2), collection=WeatherTypeCollection.WEATHER_FORECAST_HOURLY, indicators=indicators, polygon=point)"
   ]
  },
  {
   "cell_type": "code",
   "execution_count": null,
   "metadata": {},
   "outputs": [],
   "source": [
    "# Get aggregated 'Historical daily' time series\n",
    "indicators = ['Precipitation', 'Temperature']\n",
    "start_date = dt.datetime.strptime(\"2022-01-01\", \"%Y-%m-%d\")\n",
    "end_date = dt.datetime.strptime(\"2022-02-01\", \"%Y-%m-%d\")\n",
    "client.get_time_series(start_date, end_date, collection=WeatherTypeCollection.WEATHER_HISTORICAL_DAILY, indicators=indicators,polygon=polygon)"
   ]
  },
  {
   "cell_type": "code",
   "execution_count": null,
   "metadata": {},
   "outputs": [],
   "source": [
    "# Get satellite image time series for Modis NDVI\n",
    "client.get_satellite_image_time_series(year_ago, today, collections=[SatelliteImageryCollection.MODIS], indicators=[\"NDVI\"], polygon=polygon)"
   ]
  },
  {
   "cell_type": "code",
   "execution_count": null,
   "metadata": {
    "scrolled": false
   },
   "outputs": [],
   "source": [
    "# Get satellite image time series for LANDSAT_8 and SENTINEL_2 Reflectance\n",
    "time_series_xarr = client.get_satellite_image_time_series(year_ago, today, collections=[SatelliteImageryCollection.SENTINEL_2, SatelliteImageryCollection.LANDSAT_8], indicators=[\"Reflectance\"],polygon=polygon)\n",
    "time_series_xarr\n"
   ]
  },
  {
   "cell_type": "code",
   "execution_count": null,
   "metadata": {
    "scrolled": true
   },
   "outputs": [],
   "source": [
    "\n",
    "import xarray as xr\n",
    "# Get satellite image time series for LANDSAT_8 and SENTINEL_2 NDVI \n",
    "# list of available indicators: Reflectance, NDVI, EVI, GNDVI, NDWI, CVI, CVIn, LAI\n",
    "ndvi_time_series_xarr = client.get_satellite_image_time_series(year_ago, today, collections=[SatelliteImageryCollection.SENTINEL_2, SatelliteImageryCollection.LANDSAT_8], indicators=[\"ndvi\"], polygon=polygon)\n",
    "\n",
    "ndvi_time_series_xarr\n"
   ]
  },
  {
   "cell_type": "code",
   "execution_count": null,
   "metadata": {
    "scrolled": true
   },
   "outputs": [],
   "source": [
    "lai_time_series_xarr = client.get_satellite_image_time_series(year_ago, today, collections=[SatelliteImageryCollection.SENTINEL_2, SatelliteImageryCollection.LANDSAT_8], indicators=[\"NDWI\"],polygon=polygon)\n",
    "lai_time_series_xarr"
   ]
  },
  {
   "cell_type": "code",
   "execution_count": null,
   "metadata": {},
   "outputs": [],
   "source": [
    "pip install zarr\n"
   ]
  },
  {
   "cell_type": "code",
   "execution_count": null,
   "metadata": {},
   "outputs": [],
   "source": [
    "if ndvi_time_series_xarr.coords == lai_time_series_xarr.coords:\n",
    "    print(\"Les dimensions sont identiques.\")\n",
    "else:\n",
    "    print(\"Les dimensions ne sont pas identiques.\")\n",
    "    print(ndvi_time_series_xarr.coords)\n",
    "    print(lai_time_series_xarr.coords)\n",
    "\n",
    "\n",
    "datacube = xr.merge([ndvi_time_series_xarr, lai_time_series_xarr])\n",
    "\n",
    "datacube.to_zarr(\"result.zarr\")"
   ]
  },
  {
   "cell_type": "code",
   "execution_count": null,
   "metadata": {},
   "outputs": [],
   "source": [
    "# Display cumulative NDVI from last result\n",
    "\n",
    "import numpy as np\n",
    "import matplotlib.pyplot as plt\n",
    "\n",
    "polygon_ndvi_ds = ndvi_time_series_xarr['ndvi'].sortby('time')\n",
    "time_coords = polygon_ndvi_ds['time']\n",
    "\n",
    "# exclude Nan values to caluculate mean\n",
    "masked_dataarray = polygon_ndvi_ds.where(~np.isnan(polygon_ndvi_ds))\n",
    "\n",
    "# NDVI mean calculattion\n",
    "mean_ndvi = masked_dataarray.mean(dim=['x', 'y'])\n",
    "\n",
    "# Cumulative NDVI calculation \n",
    "polygon_cumul_ndvi = mean_ndvi.cumsum(dim='time')\n",
    "polygon_cumul_ndvi \n",
    "\n",
    "# build & display cumlative Ndvi graph\n",
    "plt.plot(time_coords, polygon_cumul_ndvi)\n",
    "plt.xlabel('Time')\n",
    "plt.ylabel('NDVI Cumul')\n",
    "plt.title('NVDI Cumul by date')\n",
    "plt.show()"
   ]
  },
  {
   "cell_type": "code",
   "execution_count": null,
   "metadata": {},
   "outputs": [],
   "source": [
    "import matplotlib\n",
    "time_series_xarr.reflectance.clip(0,1).sel(band='Green').plot(x=\"x\", y=\"y\", col=\"time\", col_wrap=3, figsize=(20,20))"
   ]
  },
  {
   "cell_type": "code",
   "execution_count": null,
   "metadata": {},
   "outputs": [],
   "source": [
    "# Get coverage for the polygon\n",
    "coverage_info_df, images_references = client.get_satellite_coverage_image_references(year_ago, today, collections=[SatelliteImageryCollection.SENTINEL_2, SatelliteImageryCollection.LANDSAT_8, SatelliteImageryCollection.LANDSAT_9],polygon=polygon)\n",
    "coverage_info_df"
   ]
  },
  {
   "cell_type": "code",
   "execution_count": null,
   "metadata": {},
   "outputs": [],
   "source": [
    "images_references"
   ]
  },
  {
   "cell_type": "code",
   "execution_count": null,
   "metadata": {},
   "outputs": [],
   "source": [
    "# Download and save a specific image\n",
    "client.download_image(images_references[('2023-05-03', 'SENTINEL_2')])\n"
   ]
  },
  {
   "cell_type": "code",
   "execution_count": null,
   "metadata": {},
   "outputs": [],
   "source": [
    "# Define a data schema in Analytics Fabrics\n",
    "schema = {\n",
    "    \"NDVI\": \"double\"\n",
    "}\n",
    "schema_id = \"GeosysPy_NDVI\"\n",
    "client.create_schema_id(schema_id, schema)"
   ]
  },
  {
   "cell_type": "code",
   "execution_count": null,
   "metadata": {},
   "outputs": [],
   "source": [
    "# Get metrics in Analytics Fabric\n",
    "\n",
    "start_date = dt.datetime.strptime(\"2022-01-24\", \"%Y-%m-%d\")\n",
    "end_date = dt.datetime.strptime(\"2022-03-01\", \"%Y-%m-%d\")\n",
    "schema_id = \"LAI_RADAR\"\n",
    "polygon = \"POLYGON((-52.72591542 -18.7395779,-52.72604885 -18.73951122,-52.72603114 -18.73908689,-52.71556835 -18.72490316,-52.71391916 -18.72612966,-52.71362802 -18.72623726,-52.71086473 -18.72804231,-52.72083542 -18.74173696,-52.72118937 -18.74159174,-52.72139229 -18.7418552,-52.72600257 -18.73969719,-52.72591542 -18.7395779))\"\n",
    "client.get_metrics( schema_id, start_date, end_date,polygon=polygon)"
   ]
  },
  {
   "cell_type": "code",
   "execution_count": null,
   "metadata": {},
   "outputs": [],
   "source": [
    "# Get time serie\n",
    "start_date = dt.datetime.strptime(\"2018-12-30\", \"%Y-%m-%d\")\n",
    "end_date = dt.datetime.strptime(\"2019-12-31\", \"%Y-%m-%d\")\n",
    "df = client.get_time_series(start_date, end_date, collection=SatelliteImageryCollection.MODIS, indicators=[\"NDVI\"],polygon=polygon)\n",
    "df.head()"
   ]
  },
  {
   "cell_type": "code",
   "execution_count": null,
   "metadata": {},
   "outputs": [],
   "source": [
    "# Create structure before push values in Analytics Fabrics\n",
    "values = []\n",
    "for i in range(0,len(df)):\n",
    "    prop = {\n",
    "        \"Timestamp\": str(df[\"value\"].index[i]),\n",
    "        \"Values\": {\n",
    "            \"NDVI\": df[\"value\"].values[i]\n",
    "        }\n",
    "        }\n",
    "    values.append(prop)\n",
    "values[0:5]"
   ]
  },
  {
   "cell_type": "code",
   "execution_count": null,
   "metadata": {},
   "outputs": [],
   "source": [
    "# Push metrics in Analytics Fabrics\n",
    "schema_id = \"GeosysPy_NDVI\"\n",
    "client.push_metrics(schema_id, values, polygon=polygon)"
   ]
  },
  {
   "cell_type": "code",
   "execution_count": null,
   "metadata": {},
   "outputs": [],
   "source": [
    "# Get metrics in Analytics Fabrics\n",
    "start_date = dt.datetime.strptime(\"2018-01-01\", \"%Y-%m-%d\")\n",
    "end_date = dt.datetime.strptime(\"2022-04-01\", \"%Y-%m-%d\")\n",
    "client.get_metrics(schema_id, start_date, end_date, polygon=polygon)"
   ]
  },
  {
   "cell_type": "code",
   "execution_count": null,
   "metadata": {},
   "outputs": [],
   "source": [
    "start_date=\"2020-10-09\"\n",
    "end_date=\"2022-10-09\"\n",
    "sensors=[\"Sentinel_2\", \"Landsat_8\"]\n",
    "denoiser=True\n",
    "smoother=\"ww\"\n",
    "eoc=True\n",
    "aggregation=\"mean\"\n",
    "index=\"ndvi\"\n",
    "raw_data=True\n",
    "str_polygon=\"POLYGON ((-0.49881816 46.27330504, -0.49231649 46.27320122, -0.49611449 46.26983426, -0.49821735 46.27094671, -0.49881816 46.27330504))\"\n",
    "\n",
    "str_s3_path = client.get_mr_time_series(str_polygon, start_date, end_date, sensors, denoiser, smoother, eoc, aggregation, index, raw_data)\n",
    "str_s3_path"
   ]
  },
  {
   "cell_type": "code",
   "execution_count": null,
   "metadata": {},
   "outputs": [],
   "source": [
    "str_polygon=\"POLYGON ((-0.49881816 46.27330504, -0.49231649 46.27320122, -0.49611449 46.26983426, -0.49821735 46.27094671, -0.49881816 46.27330504))\"\n",
    "\n",
    "str_s3_path = client.get_mr_time_series(str_polygon)\n",
    "str_s3_path"
   ]
  },
  {
   "cell_type": "code",
   "execution_count": null,
   "metadata": {},
   "outputs": [],
   "source": [
    "from notebook_utils import *\n",
    "\n",
    "# read MRTS outputs from AWS and plot result\n",
    "dict_mrts = read_mrts_from_awsS3(str_s3_path)\n",
    "plot_mrts_dict(dict_mrts)\n",
    "\n",
    "### others useful functions\n",
    "# plot_mrts_from_aws(str_s3_path) : plot MRTS outputs from AWS\n",
    "# download MRTS outputs from AWS and read outputs downloaded : download_s3_files(str_s3_path), read_mrts_data(str_downloaded_path)"
   ]
  },
  {
   "cell_type": "markdown",
   "metadata": {},
   "source": [
    "## AGRIQUEST COMPUTATION"
   ]
  },
  {
   "cell_type": "code",
   "execution_count": null,
   "metadata": {},
   "outputs": [],
   "source": [
    "# Generate a panda data frame from Agriquest Weather Data:\n",
    "# on all AMU of o block\n",
    "# on a specific period\n",
    "# for a specific weather indicator\n",
    "aq_weather_data_frame = client.get_agriquest_weather_block_data(start_date=\"2022-06-01\",\n",
    "                                                  end_date=\"2023-06-10\",\n",
    "                                                  block_code=AgriquestBlocks.AMU_NORTH_AMERICA,\n",
    "                                                  weather_type=AgriquestWeatherType.AVERAGE_TEMPERATURE)\n",
    "\n",
    "aq_weather_data_frame"
   ]
  },
  {
   "cell_type": "code",
   "execution_count": null,
   "metadata": {},
   "outputs": [],
   "source": [
    "# Generate a panda data frame from Agriquest NDVI Data:\n",
    "# on all AMU of o block\n",
    "# on a specific date\n",
    "# for a specific commodity (ALL_VEGETATION or ALL_CROPS)\n",
    "\n",
    "aq_ndvi_data_frame = client.get_agriquest_ndvi_block_data(day_of_measure=\"2022-06-01\",\n",
    "                                               commodity_code=AgriquestCommodityCode.ALL_CROPS,             \n",
    "                                               block_code=AgriquestBlocks.FRA_DEPARTEMENTS)\n",
    "\n",
    "aq_ndvi_data_frame"
   ]
  },
  {
   "cell_type": "markdown",
   "metadata": {},
   "source": [
    "## ANALYTICS COMPUTATION"
   ]
  },
  {
   "cell_type": "code",
   "execution_count": null,
   "metadata": {},
   "outputs": [],
   "source": [
    "# Analytics processor - Historical Harvest\n",
    "harvest_historical_analytics = client.get_harvest_analytics(\n",
    "    season_duration=215,\n",
    "    season_start_day=1,\n",
    "    season_start_month=4,\n",
    "    crop=crops._2ND_CORN,\n",
    "    year=2021,\n",
    "    geometry=\"POLYGON ((-56.785919346530768 -21.208154463301554 ,  -56.79078750820733 -21.206043784434833 ,  -56.790973809206818 -21.206069651656232 ,  -56.791373799079636 -21.197107091323097 ,  -56.785129186971687 -21.196010916846863 ,  -56.781397554331065 -21.19535575112814 ,  -56.777108478217059 -21.202038412606473 ,  -56.778435977920665 -21.211398619037478 ,  -56.785919346530768 -21.208154463301554))\",\n",
    "    harvest_type=Harvest.HARVEST_HISTORICAL)\n",
    "harvest_historical_analytics\n"
   ]
  },
  {
   "cell_type": "code",
   "execution_count": null,
   "metadata": {},
   "outputs": [],
   "source": [
    "# Analytics processor - Inseason Harvest\n",
    "harvest_in_season_analytics = client.get_harvest_analytics(\n",
    "    season_duration=215,\n",
    "    season_start_day=1,\n",
    "    season_start_month=4,\n",
    "    crop=crops._2ND_CORN,\n",
    "    year=2021,\n",
    "    geometry=\"POLYGON ((-56.785919346530768 -21.208154463301554 ,  -56.79078750820733 -21.206043784434833 ,  -56.790973809206818 -21.206069651656232 ,  -56.791373799079636 -21.197107091323097 ,  -56.785129186971687 -21.196010916846863 ,  -56.781397554331065 -21.19535575112814 ,  -56.777108478217059 -21.202038412606473 ,  -56.778435977920665 -21.211398619037478 ,  -56.785919346530768 -21.208154463301554))\",\n",
    "    harvest_type=Harvest.HARVEST_IN_SEASON)\n",
    "\n",
    "harvest_in_season_analytics\n"
   ]
  },
  {
   "cell_type": "code",
   "execution_count": null,
   "metadata": {},
   "outputs": [],
   "source": [
    "# Analytics processor - Inseason Emergence\n",
    "emergence_in_season_analytics = client.get_emergence_analytics(\n",
    "    season_duration=215,\n",
    "    season_start_day=1,\n",
    "    season_start_month=4,\n",
    "    crop=crops._2ND_CORN,\n",
    "    year=2021,\n",
    "    geometry=\"POLYGON ((-56.785919346530768 -21.208154463301554 ,  -56.79078750820733 -21.206043784434833 ,  -56.790973809206818 -21.206069651656232 ,  -56.791373799079636 -21.197107091323097 ,  -56.785129186971687 -21.196010916846863 ,  -56.781397554331065 -21.19535575112814 ,  -56.777108478217059 -21.202038412606473 ,  -56.778435977920665 -21.211398619037478 ,  -56.785919346530768 -21.208154463301554))\",\n",
    "    emergence_type=Emergence.EMERGENCE_IN_SEASON)\n",
    "\n",
    "emergence_in_season_analytics\n"
   ]
  },
  {
   "cell_type": "code",
   "execution_count": null,
   "metadata": {},
   "outputs": [],
   "source": [
    "# Analytics processor - Historical Emergence\n",
    "emergence_historical_analytics = client.get_emergence_analytics(\n",
    "    season_duration=215,\n",
    "    season_start_day=1,\n",
    "    season_start_month=4,\n",
    "    crop=crops._2ND_CORN,\n",
    "    year=2021,\n",
    "    geometry=\"POLYGON ((-56.785919346530768 -21.208154463301554 ,  -56.79078750820733 -21.206043784434833 ,  -56.790973809206818 -21.206069651656232 ,  -56.791373799079636 -21.197107091323097 ,  -56.785129186971687 -21.196010916846863 ,  -56.781397554331065 -21.19535575112814 ,  -56.777108478217059 -21.202038412606473 ,  -56.778435977920665 -21.211398619037478 ,  -56.785919346530768 -21.208154463301554))\",\n",
    "    emergence_type=Emergence.EMERGENCE_HISTORICAL)\n",
    "\n",
    "emergence_historical_analytics\n"
   ]
  },
  {
   "cell_type": "code",
   "execution_count": null,
   "metadata": {},
   "outputs": [],
   "source": [
    "# Analytics processor - Emergence Delay\n",
    "emergence_delay_analytics = client.get_emergence_analytics(\n",
    "    season_duration=215,\n",
    "    season_start_day=1,\n",
    "    season_start_month=4,\n",
    "    crop=crops.CORN,\n",
    "    year=2021,\n",
    "    geometry=\"POLYGON ((-56.785919346530768 -21.208154463301554 ,  -56.79078750820733 -21.206043784434833 ,  -56.790973809206818 -21.206069651656232 ,  -56.791373799079636 -21.197107091323097 ,  -56.785129186971687 -21.196010916846863 ,  -56.781397554331065 -21.19535575112814 ,  -56.777108478217059 -21.202038412606473 ,  -56.778435977920665 -21.211398619037478 ,  -56.785919346530768 -21.208154463301554))\",\n",
    "    emergence_type=Emergence.EMERGENCE_DELAY)\n",
    "\n",
    "emergence_delay_analytics\n"
   ]
  },
  {
   "cell_type": "code",
   "execution_count": null,
   "metadata": {},
   "outputs": [],
   "source": [
    "# Analytics processor - Potential Score\n",
    "potential_score_analytics = client.get_potential_score_analytics(\n",
    "    end_date = \"2022-03-06\",\n",
    "    nb_historical_years = 5,\n",
    "    season_duration = 200, \n",
    "    season_start_day = 1, \n",
    "    season_start_month = 10, \n",
    "    crop = crops.CORN,\n",
    "    sowing_date = \"2021-10-01\",\n",
    "    geometry=\"POLYGON ((-54.26027778 -25.38777778, -54.26027778 -25.37444444, -54.26 -25.37416667, -54.25972222 -25.37444444, -54.25944444 -25.37444444, -54.25888889 -25.37472222, -54.258611110000004 -25.37472222, -54.25888889 -25.375, -54.25888889 -25.37555555, -54.258611110000004 -25.37611111, -54.258611110000004 -25.38194444, -54.25833333 -25.38416667, -54.25694444 -25.38361111, -54.25694444 -25.38416667, -54.2575 -25.38416667, -54.2575 -25.38444444, -54.25777778 -25.38416667, -54.25807016 -25.384158120000002, -54.25805556 -25.38444444, -54.258077300000004 -25.38472206, -54.2575 -25.38527778, -54.25694444 -25.385, -54.256388890000004 -25.38361111, -54.25472222 -25.38305555, -54.25472222 -25.3825, -54.254166670000004 -25.38194444, -54.25444444 -25.38166667, -54.25472222 -25.38166667, -54.25472222 -25.37944444, -54.25277778 -25.37944444, -54.25277778 -25.38583333, -54.25419223 -25.3861539, -54.2539067 -25.38589216, -54.25388889 -25.385, -54.25444444 -25.38555555, -54.2547871 -25.385820770000002, -54.25472222 -25.38611111, -54.26027778 -25.38777778))\"\n",
    ")\n",
    "\n",
    "potential_score_analytics"
   ]
  },
  {
   "cell_type": "code",
   "execution_count": null,
   "metadata": {},
   "outputs": [],
   "source": [
    "# Analytics processor - Greenness\n",
    "greenness_analytics = client.get_greenness_analytics(\n",
    "    start_date =\"2022-01-15\",\n",
    "    end_date = \"2022-05-31\",    \n",
    "    crop = crops.CORN,\n",
    "    sowing_date = \"2022-01-15\",\n",
    "    # WKT\n",
    "    geometry=\"POLYGON ((-54.26027778 -25.38777778, -54.26027778 -25.37444444, -54.26 -25.37416667, -54.25972222 -25.37444444, -54.25944444 -25.37444444, -54.25888889 -25.37472222, -54.258611110000004 -25.37472222, -54.25888889 -25.375, -54.25888889 -25.37555555, -54.258611110000004 -25.37611111, -54.258611110000004 -25.38194444, -54.25833333 -25.38416667, -54.25694444 -25.38361111, -54.25694444 -25.38416667, -54.2575 -25.38416667, -54.2575 -25.38444444, -54.25777778 -25.38416667, -54.25807016 -25.384158120000002, -54.25805556 -25.38444444, -54.258077300000004 -25.38472206, -54.2575 -25.38527778, -54.25694444 -25.385, -54.256388890000004 -25.38361111, -54.25472222 -25.38305555, -54.25472222 -25.3825, -54.254166670000004 -25.38194444, -54.25444444 -25.38166667, -54.25472222 -25.38166667, -54.25472222 -25.37944444, -54.25277778 -25.37944444, -54.25277778 -25.38583333, -54.25419223 -25.3861539, -54.2539067 -25.38589216, -54.25388889 -25.385, -54.25444444 -25.38555555, -54.2547871 -25.385820770000002, -54.25472222 -25.38611111, -54.26027778 -25.38777778))\"\n",
    "    # GeoJson\n",
    "    #geometry='{\"type\": \"Polygon\",\"coordinates\": [[[ -54.260277780000003, -25.387777780000000 ],[ -54.260277780000003, -25.374444440000001 ],[ -54.259999999999998, -25.374166670000001 ],[ -54.259722220000000, -25.374444440000001 ],[ -54.259444440000003, -25.374444440000001 ],[ -54.258888890000001, -25.374722219999999 ],[ -54.258611110000004, -25.374722219999999 ],[ -54.258888890000001, -25.375000000000000 ],[ -54.258888890000001, -25.375555550000001 ],[ -54.258611110000004, -25.376111110000000 ],[ -54.258611110000004, -25.381944440000002 ],[ -54.258333329999999, -25.384166669999999 ],[ -54.256944439999998, -25.383611110000000 ],[ -54.256944439999998, -25.384166669999999 ],[ -54.257500000000000, -25.384166669999999 ],[ -54.257500000000000, -25.384444439999999 ],[ -54.257777779999998, -25.384166669999999 ],[ -54.258070160000003, -25.384158120000002 ],[ -54.258055560000003, -25.384444439999999 ],[ -54.258077300000004, -25.384722060000001 ],[ -54.257500000000000, -25.385277779999999 ],[ -54.256944439999998, -25.385000000000002 ],[ -54.256388890000004, -25.383611110000000 ],[ -54.254722219999998, -25.383055550000002 ],[ -54.254722219999998, -25.382500000000000 ],[ -54.254166670000004, -25.381944440000002 ],[ -54.254444440000000, -25.381666670000001 ],[ -54.254722219999998, -25.381666670000001 ],[ -54.254722219999998, -25.379444440000000 ],[ -54.252777780000002, -25.379444440000000 ],[ -54.252777780000002, -25.385833330000001 ],[ -54.254192230000001, -25.386153900000000 ],[ -54.253906700000002, -25.385892160000001 ],[ -54.253888889999999, -25.385000000000002 ],[ -54.254444440000000, -25.385555549999999 ],[ -54.254787100000001, -25.385820770000002 ],[ -54.254722219999998, -25.386111110000002 ],[ -54.260277780000003, -25.387777780000000 ]]]}',\n",
    ")\n",
    "\n",
    "greenness_analytics"
   ]
  },
  {
   "cell_type": "code",
   "execution_count": null,
   "metadata": {},
   "outputs": [],
   "source": [
    "# Analytics processor - Harvest Readiness\n",
    "harvest_readiness_analytics = client.get_harvest_readiness_analytics(\n",
    "    start_date =\"2022-01-15\",\n",
    "    end_date = \"2022-05-31\",    \n",
    "    crop = crops.CORN,\n",
    "    sowing_date = \"2022-01-15\",\n",
    "    geometry=\"POLYGON ((-54.26027778 -25.38777778, -54.26027778 -25.37444444, -54.26 -25.37416667, -54.25972222 -25.37444444, -54.25944444 -25.37444444, -54.25888889 -25.37472222, -54.258611110000004 -25.37472222, -54.25888889 -25.375, -54.25888889 -25.37555555, -54.258611110000004 -25.37611111, -54.258611110000004 -25.38194444, -54.25833333 -25.38416667, -54.25694444 -25.38361111, -54.25694444 -25.38416667, -54.2575 -25.38416667, -54.2575 -25.38444444, -54.25777778 -25.38416667, -54.25807016 -25.384158120000002, -54.25805556 -25.38444444, -54.258077300000004 -25.38472206, -54.2575 -25.38527778, -54.25694444 -25.385, -54.256388890000004 -25.38361111, -54.25472222 -25.38305555, -54.25472222 -25.3825, -54.254166670000004 -25.38194444, -54.25444444 -25.38166667, -54.25472222 -25.38166667, -54.25472222 -25.37944444, -54.25277778 -25.37944444, -54.25277778 -25.38583333, -54.25419223 -25.3861539, -54.2539067 -25.38589216, -54.25388889 -25.385, -54.25444444 -25.38555555, -54.2547871 -25.385820770000002, -54.25472222 -25.38611111, -54.26027778 -25.38777778))\"\n",
    ")\n",
    "\n",
    "harvest_readiness_analytics"
   ]
  },
  {
   "cell_type": "code",
   "execution_count": null,
   "metadata": {},
   "outputs": [],
   "source": [
    "# Analytics processor - Planted area\n",
    "planted_area_analytics = client.get_planted_area_analytics(\n",
    "    start_date =\"2022-01-15\",\n",
    "    end_date = \"2022-05-31\",        \n",
    "    geometry=\"POLYGON ((-54.26027778 -25.38777778, -54.26027778 -25.37444444, -54.26 -25.37416667, -54.25972222 -25.37444444, -54.25944444 -25.37444444, -54.25888889 -25.37472222, -54.258611110000004 -25.37472222, -54.25888889 -25.375, -54.25888889 -25.37555555, -54.258611110000004 -25.37611111, -54.258611110000004 -25.38194444, -54.25833333 -25.38416667, -54.25694444 -25.38361111, -54.25694444 -25.38416667, -54.2575 -25.38416667, -54.2575 -25.38444444, -54.25777778 -25.38416667, -54.25807016 -25.384158120000002, -54.25805556 -25.38444444, -54.258077300000004 -25.38472206, -54.2575 -25.38527778, -54.25694444 -25.385, -54.256388890000004 -25.38361111, -54.25472222 -25.38305555, -54.25472222 -25.3825, -54.254166670000004 -25.38194444, -54.25444444 -25.38166667, -54.25472222 -25.38166667, -54.25472222 -25.37944444, -54.25277778 -25.37944444, -54.25277778 -25.38583333, -54.25419223 -25.3861539, -54.2539067 -25.38589216, -54.25388889 -25.385, -54.25444444 -25.38555555, -54.2547871 -25.385820770000002, -54.25472222 -25.38611111, -54.26027778 -25.38777778))\"\n",
    ")\n",
    "\n",
    "planted_area_analytics"
   ]
  },
  {
   "cell_type": "code",
   "execution_count": null,
   "metadata": {},
   "outputs": [],
   "source": [
    "# Analytics processor - zarc\n",
    "zarc_analytics = client.get_zarc_analytics(\n",
    "    start_date_emergence= \"2022-01-15\",\n",
    "    end_date_emergence = \"2022-05-31\",\n",
    "    nb_days_sowing_emergence = 20,\n",
    "    crop =crops.CORN,    \n",
    "    soil_type = ZarcSoilType.NONE,\n",
    "    cycle = ZarcCycleType.NONE,    \n",
    "    geometry=\"POLYGON ((-54.26027778 -25.38777778, -54.26027778 -25.37444444, -54.26 -25.37416667, -54.25972222 -25.37444444, -54.25944444 -25.37444444, -54.25888889 -25.37472222, -54.258611110000004 -25.37472222, -54.25888889 -25.375, -54.25888889 -25.37555555, -54.258611110000004 -25.37611111, -54.258611110000004 -25.38194444, -54.25833333 -25.38416667, -54.25694444 -25.38361111, -54.25694444 -25.38416667, -54.2575 -25.38416667, -54.2575 -25.38444444, -54.25777778 -25.38416667, -54.25807016 -25.384158120000002, -54.25805556 -25.38444444, -54.258077300000004 -25.38472206, -54.2575 -25.38527778, -54.25694444 -25.385, -54.256388890000004 -25.38361111, -54.25472222 -25.38305555, -54.25472222 -25.3825, -54.254166670000004 -25.38194444, -54.25444444 -25.38166667, -54.25472222 -25.38166667, -54.25472222 -25.37944444, -54.25277778 -25.37944444, -54.25277778 -25.38583333, -54.25419223 -25.3861539, -54.2539067 -25.38589216, -54.25388889 -25.385, -54.25444444 -25.38555555, -54.2547871 -25.385820770000002, -54.25472222 -25.38611111, -54.26027778 -25.38777778))\"\n",
    ")\n",
    "\n",
    "zarc_analytics"
   ]
  },
  {
   "cell_type": "code",
   "execution_count": null,
   "metadata": {},
   "outputs": [],
   "source": [
    "# Analytics processor - crop id\n",
    "brazil_crop_id_analytics = client.get_brazil_crop_id_analytics(\n",
    "    start_date =\"2020-10-01\",\n",
    "    end_date = \"2021-05-31\",    \n",
    "    season = CropIdSeason.SEASON_1,\n",
    "    geometry=\"POLYGON ((-54.26027778 -25.38777778, -54.26027778 -25.37444444, -54.26 -25.37416667, -54.25972222 -25.37444444, -54.25944444 -25.37444444, -54.25888889 -25.37472222, -54.258611110000004 -25.37472222, -54.25888889 -25.375, -54.25888889 -25.37555555, -54.258611110000004 -25.37611111, -54.258611110000004 -25.38194444, -54.25833333 -25.38416667, -54.25694444 -25.38361111, -54.25694444 -25.38416667, -54.2575 -25.38416667, -54.2575 -25.38444444, -54.25777778 -25.38416667, -54.25807016 -25.384158120000002, -54.25805556 -25.38444444, -54.258077300000004 -25.38472206, -54.2575 -25.38527778, -54.25694444 -25.385, -54.256388890000004 -25.38361111, -54.25472222 -25.38305555, -54.25472222 -25.3825, -54.254166670000004 -25.38194444, -54.25444444 -25.38166667, -54.25472222 -25.38166667, -54.25472222 -25.37944444, -54.25277778 -25.37944444, -54.25277778 -25.38583333, -54.25419223 -25.3861539, -54.2539067 -25.38589216, -54.25388889 -25.385, -54.25444444 -25.38555555, -54.2547871 -25.385820770000002, -54.25472222 -25.38611111, -54.26027778 -25.38777778))\"\n",
    ")\n",
    "\n",
    "brazil_crop_id_analytics"
   ]
  },
  {
   "cell_type": "code",
   "execution_count": null,
   "metadata": {},
   "outputs": [],
   "source": [
    "import pandas as pd\n",
    "\n",
    "# Display probability by crop value from last zarc analytics result\n",
    "data_dict = eval(brazil_crop_id_analytics.values[0][1])\n",
    "df_new = pd.DataFrame.from_records([data_dict])\n",
    "df_new\n"
   ]
  }
 ],
 "metadata": {
  "kernelspec": {
   "display_name": "geosyspy_aq",
   "language": "python",
   "name": "geosyspy_aq"
  },
  "language_info": {
   "codemirror_mode": {
    "name": "ipython",
    "version": 3
   },
   "file_extension": ".py",
   "mimetype": "text/x-python",
   "name": "python",
   "nbconvert_exporter": "python",
   "pygments_lexer": "ipython3",
   "version": "3.11.3"
  },
  "vscode": {
   "interpreter": {
    "hash": "343b2e8ed5eaa23bb5713879a0aa346059bcae91e4280657563d238a2165b641"
   }
  }
 },
 "nbformat": 4,
 "nbformat_minor": 2
}
